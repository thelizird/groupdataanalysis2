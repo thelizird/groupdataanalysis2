{
 "cells": [
  {
   "cell_type": "markdown",
   "metadata": {},
   "source": [
    "# Group Data Analysis | DATA 5600\n",
    "## Simple Linear Regression\n",
    "### Owen Mendiola & Carter Daly"
   ]
  },
  {
   "cell_type": "markdown",
   "metadata": {},
   "source": [
    "## Introduction"
   ]
  },
  {
   "cell_type": "markdown",
   "metadata": {},
   "source": [
    "The dataset used for this analysis was obtained from the Spotify API. We got information from the top 2500 songs of all time. This was based off of total streams. Key metrics in the dataset include blah blah blah blah blah. \n",
    "For this analysis, our primar focus is seeing if we can predict how popular a song is _________"
   ]
  },
  {
   "cell_type": "markdown",
   "metadata": {},
   "source": [
    "## Exploratory Data Analysis"
   ]
  },
  {
   "cell_type": "markdown",
   "metadata": {},
   "source": [
    "# edit this version of my groupproject 1 \n",
    "Before performing any modeling, we want to explore the data and see if we can see any underlying structures/relationships. Again, we will be looking at the relationship between Caffeine Intake (in mg) and Sleep Quality Score"
   ]
  },
  {
   "cell_type": "code",
   "execution_count": 1,
   "metadata": {},
   "outputs": [],
   "source": [
    "#put the imports we need here also read in the file\n",
    "import pandas as pd\n",
    "import numpy as np\n",
    "import seaborn as sns\n",
    "from matplotlib import pyplot as plt\n",
    "import statsmodels.api as sm\n",
    "from statsmodels.stats.outliers_influence import variance_inflation_factor as vif\n",
    "from sklearn.linear_model import LinearRegression\n",
    "\n",
    "from mlxtend.feature_selection import ExhaustiveFeatureSelector as EFS\n",
    "from mlxtend.feature_selection import SequentialFeatureSelector as SFS\n",
    "from mlxtend.plotting import plot_sequential_feature_selection as plot_sfs\n",
    "\n",
    "from sklearn.preprocessing import StandardScaler\n",
    "from sklearn.linear_model import Lasso\n",
    "from sklearn.linear_model import LassoCV\n",
    "from sklearn.linear_model import ElasticNet\n",
    "from sklearn.linear_model import ElasticNetCV\n",
    "# set seed\n",
    "import random\n",
    "random.seed(5600)\n",
    "\n"
   ]
  },
  {
   "cell_type": "code",
   "execution_count": 2,
   "metadata": {},
   "outputs": [
    {
     "name": "stdout",
     "output_type": "stream",
     "text": [
      "                name         artist                                    album  \\\n",
      "0    Blinding Lights     The Weeknd                              After Hours   \n",
      "1       Shape of You     Ed Sheeran                               ÷ (Deluxe)   \n",
      "2  Someone You Loved  Lewis Capaldi  Divinely Uninspired To A Hellish Extent   \n",
      "3          As It Was   Harry Styles                            Harry's House   \n",
      "4            Starboy     The Weeknd                                  Starboy   \n",
      "\n",
      "  release_date  popularity                                        spotify_url  \\\n",
      "0   2020-03-20          88  https://open.spotify.com/track/0VjIjW4GlUZAMYd...   \n",
      "1   2017-03-03          85  https://open.spotify.com/track/7qiZfU4dY1lWllz...   \n",
      "2   2019-05-17          87  https://open.spotify.com/track/7qEHsqek33rTcFN...   \n",
      "3   2022-05-20          88  https://open.spotify.com/track/4Dvkj6JhhA12EX0...   \n",
      "4   2016-11-25          88  https://open.spotify.com/track/7MXVkk9YMctZqd1...   \n",
      "\n",
      "   danceability  energy  key  loudness  mode  speechiness  acousticness  \\\n",
      "0         0.513   0.730  1.0    -5.940   1.0       0.0598       0.00143   \n",
      "1         0.825   0.652  1.0    -3.183   0.0       0.0802       0.58100   \n",
      "2         0.501   0.405  1.0    -5.679   1.0       0.0319       0.75100   \n",
      "3         0.520   0.731  6.0    -5.338   0.0       0.0557       0.34200   \n",
      "4         0.679   0.587  7.0    -7.015   1.0       0.2760       0.14100   \n",
      "\n",
      "   instrumentalness  liveness  valence    tempo        Streams      Daily  \n",
      "0          0.000095    0.0897    0.334  171.001  4,480,488,178  1,856,931  \n",
      "1          0.000000    0.0931    0.931   95.977  4,028,229,987  1,541,000  \n",
      "2          0.000000    0.1050    0.446  109.891  3,605,278,930  1,633,860  \n",
      "3          0.001010    0.3110    0.662  173.930  3,560,182,786  1,633,094  \n",
      "4          0.000006    0.1370    0.486  186.003  3,499,250,243  1,948,505  \n"
     ]
    }
   ],
   "source": [
    "df = pd.read_csv('SongOutputs.csv')\n",
    "print(df.head())"
   ]
  },
  {
   "cell_type": "markdown",
   "metadata": {},
   "source": [
    "Before we continue we need to remove certain variables like name, artist, popularity, data, etc. These don't give any useful information to our analysis. We only care about our continours/categorical predictors and our outcome variable Daily"
   ]
  },
  {
   "cell_type": "code",
   "execution_count": 3,
   "metadata": {},
   "outputs": [
    {
     "name": "stdout",
     "output_type": "stream",
     "text": [
      "   danceability  energy  key  loudness  mode  speechiness  acousticness  \\\n",
      "0         0.513   0.730  1.0    -5.940   1.0       0.0598       0.00143   \n",
      "1         0.825   0.652  1.0    -3.183   0.0       0.0802       0.58100   \n",
      "2         0.501   0.405  1.0    -5.679   1.0       0.0319       0.75100   \n",
      "3         0.520   0.731  6.0    -5.338   0.0       0.0557       0.34200   \n",
      "4         0.679   0.587  7.0    -7.015   1.0       0.2760       0.14100   \n",
      "\n",
      "   instrumentalness  liveness  valence    tempo      Daily  \n",
      "0          0.000095    0.0897    0.334  171.001  1856931.0  \n",
      "1          0.000000    0.0931    0.931   95.977  1541000.0  \n",
      "2          0.000000    0.1050    0.446  109.891  1633860.0  \n",
      "3          0.001010    0.3110    0.662  173.930  1633094.0  \n",
      "4          0.000006    0.1370    0.486  186.003  1948505.0  \n"
     ]
    }
   ],
   "source": [
    "# Create a new DataFrame excluding specified columns\n",
    "df2 = df.drop(columns=['name', 'artist', 'album', 'release_date', 'popularity', 'spotify_url', 'Streams'])\n",
    "# Clean the 'Daily' column by removing commas and converting to numeric\n",
    "df2['Daily'] = df2['Daily'].replace({',': ''}, regex=True).astype(float)\n",
    "# Remove rows with any null or empty values\n",
    "df2 = df2.dropna()\n",
    "print(df2.head())"
   ]
  },
  {
   "cell_type": "code",
   "execution_count": 4,
   "metadata": {},
   "outputs": [
    {
     "data": {
      "text/html": [
       "<div>\n",
       "<style scoped>\n",
       "    .dataframe tbody tr th:only-of-type {\n",
       "        vertical-align: middle;\n",
       "    }\n",
       "\n",
       "    .dataframe tbody tr th {\n",
       "        vertical-align: top;\n",
       "    }\n",
       "\n",
       "    .dataframe thead th {\n",
       "        text-align: right;\n",
       "    }\n",
       "</style>\n",
       "<table border=\"1\" class=\"dataframe\">\n",
       "  <thead>\n",
       "    <tr style=\"text-align: right;\">\n",
       "      <th></th>\n",
       "      <th>danceability</th>\n",
       "      <th>energy</th>\n",
       "      <th>key</th>\n",
       "      <th>loudness</th>\n",
       "      <th>mode</th>\n",
       "      <th>speechiness</th>\n",
       "      <th>acousticness</th>\n",
       "      <th>instrumentalness</th>\n",
       "      <th>liveness</th>\n",
       "      <th>valence</th>\n",
       "      <th>tempo</th>\n",
       "      <th>Daily</th>\n",
       "    </tr>\n",
       "  </thead>\n",
       "  <tbody>\n",
       "    <tr>\n",
       "      <th>count</th>\n",
       "      <td>2016.000000</td>\n",
       "      <td>2016.000000</td>\n",
       "      <td>2016.000000</td>\n",
       "      <td>2016.000000</td>\n",
       "      <td>2016.000000</td>\n",
       "      <td>2016.000000</td>\n",
       "      <td>2016.000000</td>\n",
       "      <td>2016.000000</td>\n",
       "      <td>2016.000000</td>\n",
       "      <td>2016.000000</td>\n",
       "      <td>2016.000000</td>\n",
       "      <td>2.016000e+03</td>\n",
       "    </tr>\n",
       "    <tr>\n",
       "      <th>mean</th>\n",
       "      <td>0.644258</td>\n",
       "      <td>0.647750</td>\n",
       "      <td>5.256944</td>\n",
       "      <td>-6.551891</td>\n",
       "      <td>0.603175</td>\n",
       "      <td>0.086663</td>\n",
       "      <td>0.220530</td>\n",
       "      <td>0.022319</td>\n",
       "      <td>0.170430</td>\n",
       "      <td>0.506947</td>\n",
       "      <td>121.250674</td>\n",
       "      <td>5.484831e+05</td>\n",
       "    </tr>\n",
       "    <tr>\n",
       "      <th>std</th>\n",
       "      <td>0.148120</td>\n",
       "      <td>0.182514</td>\n",
       "      <td>3.578049</td>\n",
       "      <td>2.849308</td>\n",
       "      <td>0.489361</td>\n",
       "      <td>0.083903</td>\n",
       "      <td>0.247967</td>\n",
       "      <td>0.110326</td>\n",
       "      <td>0.130439</td>\n",
       "      <td>0.230982</td>\n",
       "      <td>28.597777</td>\n",
       "      <td>5.218727e+05</td>\n",
       "    </tr>\n",
       "    <tr>\n",
       "      <th>min</th>\n",
       "      <td>0.150000</td>\n",
       "      <td>0.016700</td>\n",
       "      <td>0.000000</td>\n",
       "      <td>-26.813000</td>\n",
       "      <td>0.000000</td>\n",
       "      <td>0.022700</td>\n",
       "      <td>0.000008</td>\n",
       "      <td>0.000000</td>\n",
       "      <td>0.023200</td>\n",
       "      <td>0.035200</td>\n",
       "      <td>48.718000</td>\n",
       "      <td>3.180900e+04</td>\n",
       "    </tr>\n",
       "    <tr>\n",
       "      <th>25%</th>\n",
       "      <td>0.548000</td>\n",
       "      <td>0.534000</td>\n",
       "      <td>2.000000</td>\n",
       "      <td>-7.859000</td>\n",
       "      <td>0.000000</td>\n",
       "      <td>0.036600</td>\n",
       "      <td>0.027775</td>\n",
       "      <td>0.000000</td>\n",
       "      <td>0.091400</td>\n",
       "      <td>0.328000</td>\n",
       "      <td>98.503750</td>\n",
       "      <td>2.521300e+05</td>\n",
       "    </tr>\n",
       "    <tr>\n",
       "      <th>50%</th>\n",
       "      <td>0.658000</td>\n",
       "      <td>0.670000</td>\n",
       "      <td>5.000000</td>\n",
       "      <td>-5.972500</td>\n",
       "      <td>1.000000</td>\n",
       "      <td>0.052350</td>\n",
       "      <td>0.119500</td>\n",
       "      <td>0.000002</td>\n",
       "      <td>0.118000</td>\n",
       "      <td>0.499500</td>\n",
       "      <td>119.943500</td>\n",
       "      <td>4.036090e+05</td>\n",
       "    </tr>\n",
       "    <tr>\n",
       "      <th>75%</th>\n",
       "      <td>0.753000</td>\n",
       "      <td>0.785250</td>\n",
       "      <td>8.000000</td>\n",
       "      <td>-4.672500</td>\n",
       "      <td>1.000000</td>\n",
       "      <td>0.095050</td>\n",
       "      <td>0.331250</td>\n",
       "      <td>0.000164</td>\n",
       "      <td>0.205000</td>\n",
       "      <td>0.689000</td>\n",
       "      <td>139.076750</td>\n",
       "      <td>6.961425e+05</td>\n",
       "    </tr>\n",
       "    <tr>\n",
       "      <th>max</th>\n",
       "      <td>0.965000</td>\n",
       "      <td>0.988000</td>\n",
       "      <td>11.000000</td>\n",
       "      <td>-1.190000</td>\n",
       "      <td>1.000000</td>\n",
       "      <td>0.592000</td>\n",
       "      <td>0.989000</td>\n",
       "      <td>0.961000</td>\n",
       "      <td>0.914000</td>\n",
       "      <td>0.981000</td>\n",
       "      <td>207.970000</td>\n",
       "      <td>7.944731e+06</td>\n",
       "    </tr>\n",
       "  </tbody>\n",
       "</table>\n",
       "</div>"
      ],
      "text/plain": [
       "       danceability       energy          key     loudness         mode  \\\n",
       "count   2016.000000  2016.000000  2016.000000  2016.000000  2016.000000   \n",
       "mean       0.644258     0.647750     5.256944    -6.551891     0.603175   \n",
       "std        0.148120     0.182514     3.578049     2.849308     0.489361   \n",
       "min        0.150000     0.016700     0.000000   -26.813000     0.000000   \n",
       "25%        0.548000     0.534000     2.000000    -7.859000     0.000000   \n",
       "50%        0.658000     0.670000     5.000000    -5.972500     1.000000   \n",
       "75%        0.753000     0.785250     8.000000    -4.672500     1.000000   \n",
       "max        0.965000     0.988000    11.000000    -1.190000     1.000000   \n",
       "\n",
       "       speechiness  acousticness  instrumentalness     liveness      valence  \\\n",
       "count  2016.000000   2016.000000       2016.000000  2016.000000  2016.000000   \n",
       "mean      0.086663      0.220530          0.022319     0.170430     0.506947   \n",
       "std       0.083903      0.247967          0.110326     0.130439     0.230982   \n",
       "min       0.022700      0.000008          0.000000     0.023200     0.035200   \n",
       "25%       0.036600      0.027775          0.000000     0.091400     0.328000   \n",
       "50%       0.052350      0.119500          0.000002     0.118000     0.499500   \n",
       "75%       0.095050      0.331250          0.000164     0.205000     0.689000   \n",
       "max       0.592000      0.989000          0.961000     0.914000     0.981000   \n",
       "\n",
       "             tempo         Daily  \n",
       "count  2016.000000  2.016000e+03  \n",
       "mean    121.250674  5.484831e+05  \n",
       "std      28.597777  5.218727e+05  \n",
       "min      48.718000  3.180900e+04  \n",
       "25%      98.503750  2.521300e+05  \n",
       "50%     119.943500  4.036090e+05  \n",
       "75%     139.076750  6.961425e+05  \n",
       "max     207.970000  7.944731e+06  "
      ]
     },
     "execution_count": 4,
     "metadata": {},
     "output_type": "execute_result"
    }
   ],
   "source": [
    "df2.describe()"
   ]
  },
  {
   "cell_type": "code",
   "execution_count": null,
   "metadata": {},
   "outputs": [],
   "source": [
    "# code for scatterplot matrix"
   ]
  },
  {
   "cell_type": "code",
   "execution_count": null,
   "metadata": {},
   "outputs": [],
   "source": [
    "# code for correlation matrix"
   ]
  },
  {
   "cell_type": "code",
   "execution_count": null,
   "metadata": {},
   "outputs": [],
   "source": [
    "# color coded correlation matrix"
   ]
  },
  {
   "cell_type": "markdown",
   "metadata": {},
   "source": [
    "## Variable Selection"
   ]
  },
  {
   "cell_type": "code",
   "execution_count": null,
   "metadata": {},
   "outputs": [],
   "source": [
    "area to explain why we do variable selection and what steps we will do "
   ]
  },
  {
   "cell_type": "markdown",
   "metadata": {},
   "source": [
    "### Backward Selection"
   ]
  },
  {
   "cell_type": "code",
   "execution_count": null,
   "metadata": {},
   "outputs": [],
   "source": [
    "# spot to perform backward selection "
   ]
  },
  {
   "cell_type": "code",
   "execution_count": null,
   "metadata": {},
   "outputs": [],
   "source": [
    "# show the line graph "
   ]
  },
  {
   "cell_type": "code",
   "execution_count": null,
   "metadata": {},
   "outputs": [],
   "source": [
    "# table of top models"
   ]
  },
  {
   "cell_type": "markdown",
   "metadata": {},
   "source": [
    "### Variable Selection Conclusion"
   ]
  },
  {
   "cell_type": "markdown",
   "metadata": {},
   "source": [
    "We decided to pick these variables ________"
   ]
  },
  {
   "cell_type": "markdown",
   "metadata": {},
   "source": [
    "## Multiple Linear Regression"
   ]
  },
  {
   "cell_type": "markdown",
   "metadata": {},
   "source": [
    "what are we doing here _____. We first have to check assumptions before we do anything else"
   ]
  }
 ],
 "metadata": {
  "kernelspec": {
   "display_name": "myenv",
   "language": "python",
   "name": "python3"
  },
  "language_info": {
   "codemirror_mode": {
    "name": "ipython",
    "version": 3
   },
   "file_extension": ".py",
   "mimetype": "text/x-python",
   "name": "python",
   "nbconvert_exporter": "python",
   "pygments_lexer": "ipython3",
   "version": "3.12.4"
  }
 },
 "nbformat": 4,
 "nbformat_minor": 2
}
